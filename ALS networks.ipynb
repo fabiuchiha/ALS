{
 "cells": [
  {
   "cell_type": "code",
   "execution_count": 11,
   "id": "9a929a88",
   "metadata": {},
   "outputs": [],
   "source": [
    "from utils import *"
   ]
  },
  {
   "cell_type": "code",
   "execution_count": 12,
   "id": "772e7b41",
   "metadata": {},
   "outputs": [],
   "source": [
    "#snapshots = binarytoData('snapshotsDict.pickle')"
   ]
  },
  {
   "cell_type": "code",
   "execution_count": 16,
   "id": "373686a8",
   "metadata": {},
   "outputs": [],
   "source": [
    "nodeLabels = []\n",
    "def createDistanceMatrix():\n",
    "    df = pd.read_csv('Dados/snapshots_independent.csv', usecols=['REF','P1','P2','P3','P4','P5','P6',\n",
    "                                                                 'P7','P8','P9','P10','P11','P12'])\n",
    "    df.dropna(inplace = True)\n",
    "    \n",
    "    nodeLabels = list(df['REF'])\n",
    "    \n",
    "    alsfrsList = []\n",
    "    refList = []\n",
    "    for i in df.index:\n",
    "        l = list(df.loc[i])\n",
    "        if l[0] not in refList:\n",
    "            refList.append(l[0])\n",
    "            l.pop(0)\n",
    "            alsfrsList.append(l)\n",
    "            \n",
    "    listSize = len(alsfrsList)\n",
    "    matrixSize = listSize*listSize\n",
    "    print(matrixSize)\n",
    "    distanceMatrix = np.array([0.0]*matrixSize).reshape(listSize,listSize)\n",
    "    \n",
    "    c = 0\n",
    "    for i in range(listSize):\n",
    "        for j in range(listSize):\n",
    "            similarity = cosine_similarity([alsfrsList[i]], [alsfrsList[j]])[0][0]\n",
    "            distanceMatrix[i][j] = similarity\n",
    "            c = c + 1\n",
    "            if (c % 100000) == 0:\n",
    "                print(c)\n",
    "        \n",
    "    return distanceMatrix\n",
    "    \n",
    "#st = time.time()\n",
    "#distanceMatrix = createDistanceMatrix()\n",
    "#et = time.time()\n",
    "#elapsed_time = et - st\n",
    "#print('Execution time:', elapsed_time, 'seconds')"
   ]
  },
  {
   "cell_type": "code",
   "execution_count": 15,
   "id": "9d474b82",
   "metadata": {},
   "outputs": [
    {
     "name": "stdout",
     "output_type": "stream",
     "text": [
      "[[1.         0.76041282 0.947982   ... 0.98384    0.83319558 0.95692307]\n",
      " [0.76041282 1.         0.82793953 ... 0.78004736 0.6008016  0.80817931]\n",
      " [0.947982   0.82793953 1.         ... 0.93119969 0.90642326 0.96186517]\n",
      " ...\n",
      " [0.98384    0.78004736 0.93119969 ... 1.         0.7823005  0.96708402]\n",
      " [0.83319558 0.6008016  0.90642326 ... 0.7823005  1.         0.81206897]\n",
      " [0.95692307 0.80817931 0.96186517 ... 0.96708402 0.81206897 1.        ]]\n"
     ]
    }
   ],
   "source": [
    "#print(distanceMatrix)\n",
    "#dataToBinary(distanceMatrix, 'distanceMatrix_PT_S1.pickle')"
   ]
  },
  {
   "cell_type": "code",
   "execution_count": null,
   "id": "a395c346",
   "metadata": {},
   "outputs": [],
   "source": []
  }
 ],
 "metadata": {
  "kernelspec": {
   "display_name": "Python 3 (ipykernel)",
   "language": "python",
   "name": "python3"
  },
  "language_info": {
   "codemirror_mode": {
    "name": "ipython",
    "version": 3
   },
   "file_extension": ".py",
   "mimetype": "text/x-python",
   "name": "python",
   "nbconvert_exporter": "python",
   "pygments_lexer": "ipython3",
   "version": "3.10.9"
  }
 },
 "nbformat": 4,
 "nbformat_minor": 5
}
