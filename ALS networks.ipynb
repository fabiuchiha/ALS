{
 "cells": [
  {
   "cell_type": "code",
   "execution_count": 34,
   "id": "9a929a88",
   "metadata": {},
   "outputs": [],
   "source": [
    "from utils import *"
   ]
  },
  {
   "cell_type": "code",
   "execution_count": 35,
   "id": "772e7b41",
   "metadata": {},
   "outputs": [],
   "source": [
    "snapshots = JSONtoData('snapshotsDict')"
   ]
  },
  {
   "cell_type": "code",
   "execution_count": 36,
   "id": "dbb1d4b2",
   "metadata": {
    "scrolled": false
   },
   "outputs": [
    {
     "name": "stdout",
     "output_type": "stream",
     "text": [
      "Network nodes with all data points: 8003\n",
      "Network nodes after removing patients with missing values: 7521\n",
      "Percentage: 94.0\n",
      "\n",
      "[4.0, 4.0, 4.0, 4.0, 4.0, 3.0, 3.0, 2.0, 2.0, 4.0, 4.0, 4.0]\n",
      "\n",
      "[4.0, 4.0, 4.0, 4.0, 4.0, 3.0, 3.0, 2.0, 2.0, 4.0, 4.0, 4.0]\n",
      "\n",
      "[4.0, 4.0, 4.0, 4.0, 4.0, 3.0, 3.0, 2.0, 1.0, 4.0, 4.0, 4.0]\n",
      "\n",
      "[4.0, 4.0, 4.0, 3.0, 2.0, 2.0, 2.0, 2.0, 1.0, 4.0, 4.0, 4.0]\n",
      "\n",
      "[3.0, 4.0, 3.0, 0.0, 0.0, 0.0, 0.0, 0.0, 0.0, 4.0, 3.0, 4.0]\n",
      "\n",
      "[2.0, 4.0, 3.0, 0.0, 0.0, 0.0, 0.0, 1.0, 0.0, 2.0, 4.0, 4.0]\n",
      "\n",
      "[3.0, 0.0, 0.0, 3.0, 0.0, 1.0, 0.0, 3.0, 3.0, 4.0, 4.0, 4.0]\n",
      "\n",
      "[4.0, 4.0, 4.0, 3.0, 1.0, 1.0, 2.0, 3.0, 2.0, 4.0, 4.0, 4.0]\n",
      "\n",
      "[3.0, 4.0, 3.0, 2.0, 1.0, 1.0, 2.0, 2.0, 1.0, 4.0, 4.0, 4.0]\n",
      "\n",
      "[0.0, 3.0, 2.0, 4.0, 4.0, 4.0, 4.0, 4.0, 2.0, 3.0, 4.0, 4.0]\n",
      "\n",
      "[0.0, 0.0, 2.0, 4.0, 4.0, 4.0, 4.0, 4.0, 4.0, 4.0, 4.0, 4.0]\n",
      "\n"
     ]
    }
   ],
   "source": [
    "distanceMatrix = []\n",
    "nodeLabels = []\n",
    "for k in snapshots.keys():\n",
    "    for l in snapshots[k]:\n",
    "        alsfrsList = []\n",
    "        addList = True\n",
    "        for index in [34,35,36,37,38,39,40,41,42,43,44,45]:\n",
    "            if l[index] == '':\n",
    "                addList = False\n",
    "                break\n",
    "            else:\n",
    "                alsfrsList.append(float(l[index]))\n",
    "        if addList:\n",
    "            nodeLabels.append(float(k))\n",
    "            distanceMatrix.append(alsfrsList)\n",
    "\n",
    "c = 0\n",
    "for v in snapshots.values():\n",
    "    for l in v:\n",
    "        c = c + 1\n",
    "\n",
    "print('Network nodes with all data points:', c)\n",
    "print('Network nodes after removing patients with missing values:', len(distanceMatrix))\n",
    "print('Percentage:', round(len(distanceMatrix)/8003*100, 1))\n",
    "print()\n",
    "c = 0\n",
    "for l in distanceMatrix:\n",
    "    print(l)\n",
    "    print()\n",
    "    c = c + 1\n",
    "    if c > 10:\n",
    "        break\n",
    "        "
   ]
  },
  {
   "cell_type": "code",
   "execution_count": 37,
   "id": "ade8d3d9",
   "metadata": {},
   "outputs": [],
   "source": [
    "#dataToJSON(distanceMatrix, 'distanceMatrix')\n",
    "#dataToJSON(nodeLabels, 'distanceMatrixLabels')"
   ]
  },
  {
   "cell_type": "code",
   "execution_count": null,
   "id": "0eaa7454",
   "metadata": {},
   "outputs": [],
   "source": [
    "def createNetwork(distanceMetric, threshold):\n",
    "    G = nx.Graph()\n",
    "    \n",
    "    distanceMatrixIndexes = [i for i in range(0, len(distanceMatrix))]\n",
    "    for n in distanceMatrixIndexes:\n",
    "        G.add_node(n)\n",
    "        \n",
    "    pairsList = itertools.combinations(distanceMatrixIndexes,2)\n",
    "    for pair in pairsList:\n",
    "        if distanceMetric == 'cosine':\n",
    "            similarity = cosine_similarity([distanceMatrix[pair[0]]], [distanceMatrix[pair[1]]])[0][0]\n",
    "        else:\n",
    "            similarity = cosine_similarity([distanceMatrix[pair[0]]], [distanceMatrix[pair[1]]])[0][0]\n",
    "        if similarity > threshold:\n",
    "            G.add_edge(pair[0], pair[1])\n",
    "    return G\n",
    "    \n",
    "st = time.time()\n",
    "networkALSFRS = createNetwork('cosine', 0.9)\n",
    "et = time.time()\n",
    "elapsed_time = et - st\n",
    "print('Execution time:', elapsed_time, 'seconds')\n",
    "print(networkALSFRS.number_of_nodes())\n",
    "print(networkALSFRS.number_of_edges())\n",
    "#print(networkALSFRS.edges)"
   ]
  },
  {
   "cell_type": "code",
   "execution_count": null,
   "id": "37d255b3",
   "metadata": {},
   "outputs": [],
   "source": []
  }
 ],
 "metadata": {
  "kernelspec": {
   "display_name": "Python 3 (ipykernel)",
   "language": "python",
   "name": "python3"
  },
  "language_info": {
   "codemirror_mode": {
    "name": "ipython",
    "version": 3
   },
   "file_extension": ".py",
   "mimetype": "text/x-python",
   "name": "python",
   "nbconvert_exporter": "python",
   "pygments_lexer": "ipython3",
   "version": "3.10.9"
  }
 },
 "nbformat": 4,
 "nbformat_minor": 5
}
