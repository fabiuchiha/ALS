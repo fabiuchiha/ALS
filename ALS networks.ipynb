{
 "cells": [
  {
   "cell_type": "code",
   "execution_count": 15,
   "id": "9a929a88",
   "metadata": {},
   "outputs": [],
   "source": [
    "from utils import *"
   ]
  },
  {
   "cell_type": "code",
   "execution_count": 24,
   "id": "373686a8",
   "metadata": {},
   "outputs": [
    {
     "name": "stdout",
     "output_type": "stream",
     "text": [
      "2149156\n"
     ]
    }
   ],
   "source": [
    "nodeLabels = []\n",
    "def createDistanceMatrix():\n",
    "    df = pd.read_csv('Dados/snapshots_independent.csv', usecols=['REF','P1','P2','P3','P4','P5','P6',\n",
    "                                                                 'P7','P8','P9','P10','P11','P12'])\n",
    "    df.dropna(inplace = True)\n",
    "    \n",
    "    alsfrsList = []\n",
    "    nodeLabels = []\n",
    "    for i in df.index:\n",
    "        l = list(df.loc[i])\n",
    "        if l[0] not in nodeLabels:\n",
    "            nodeLabels.append(l[0])\n",
    "            l.pop(0)\n",
    "            alsfrsList.append(l)\n",
    "            \n",
    "    listSize = len(alsfrsList)\n",
    "    matrixSize = listSize*listSize\n",
    "    print(matrixSize)\n",
    "    distanceMatrix = np.array([0.0]*matrixSize).reshape(listSize,listSize)\n",
    "    \n",
    "    G=nx.Graph()\n",
    "    for i in nodeLabels:\n",
    "        G.add_node(i)\n",
    "    \n",
    "    for i in range(listSize):\n",
    "        for j in range(listSize):\n",
    "            similarity = cosine_similarity([alsfrsList[i]], [alsfrsList[j]])[0][0]\n",
    "            distanceMatrix[i][j] = similarity\n",
    "            if similarity > 0.95 and i!=j and not G.has_edge(nodeLabels[j], nodeLabels[i]):\n",
    "                G.add_edge(nodeLabels[i], nodeLabels[j])\n",
    "        \n",
    "    return distanceMatrix, G\n",
    "    \n",
    "#st = time.time()\n",
    "distanceMatrix, G = createDistanceMatrix()\n",
    "#et = time.time()\n",
    "#elapsed_time = et - st\n",
    "#print('Execution time:', elapsed_time, 'seconds')"
   ]
  },
  {
   "cell_type": "code",
   "execution_count": 10,
   "id": "67286b39",
   "metadata": {},
   "outputs": [],
   "source": [
    "#distanceMatrix = binaryToData('distanceMatrix_PT_S1_cosine.pickle')\n",
    "#G = binaryToData('net_PT_S1_cosine_95.pickle')"
   ]
  },
  {
   "cell_type": "code",
   "execution_count": 30,
   "id": "5b2df30f",
   "metadata": {},
   "outputs": [
    {
     "name": "stdout",
     "output_type": "stream",
     "text": [
      "[[1.         0.76041282 0.947982   ... 0.98384    0.83319558 0.95692307]\n",
      " [0.76041282 1.         0.82793953 ... 0.78004736 0.6008016  0.80817931]\n",
      " [0.947982   0.82793953 1.         ... 0.93119969 0.90642326 0.96186517]\n",
      " ...\n",
      " [0.98384    0.78004736 0.93119969 ... 1.         0.7823005  0.96708402]\n",
      " [0.83319558 0.6008016  0.90642326 ... 0.7823005  1.         0.81206897]\n",
      " [0.95692307 0.80817931 0.96186517 ... 0.96708402 0.81206897 1.        ]]\n"
     ]
    }
   ],
   "source": [
    "print(distanceMatrix)\n",
    "#dataToBinary(distanceMatrix, 'distanceMatrix_PT_S1_cosine.pickle')\n",
    "#dataToBinary(nodeLabels, 'nodeLabels_PT_S1_cosine.pickle')\n",
    "#dataToBinary(G, 'net_PT_S1_cosine_95.pickle')"
   ]
  },
  {
   "cell_type": "code",
   "execution_count": 28,
   "id": "a395c346",
   "metadata": {},
   "outputs": [
    {
     "name": "stdout",
     "output_type": "stream",
     "text": [
      "Graph with 1466 nodes and 482280 edges\n",
      "Average degree: 657.9536152796726\n"
     ]
    },
    {
     "data": {
      "image/png": "[encoded data removed]",
      "text/plain": [
       "<Figure size 640x480 with 1 Axes>"
      ]
     },
     "metadata": {},
     "output_type": "display_data"
    }
   ],
   "source": [
    "print(G)\n",
    "#networkInfo(G)\n",
    "print(\"Average degree:\", averageDegree(G))\n",
    "nx.draw_networkx(G, with_labels=False)"
   ]
  },
  {
   "cell_type": "code",
   "execution_count": 29,
   "id": "e722322b",
   "metadata": {},
   "outputs": [
    {
     "name": "stdout",
     "output_type": "stream",
     "text": [
      "Execution time: 4.3418 seconds\n",
      "Number of communities: 17\n",
      "Average Community Size: 86.23529411764706\n",
      "Average Internal Degree: 54.509105067319595\n",
      "Newman-Girvan Modularity: 0.1188509773216917\n",
      "Erdos-Renyi Modularity: 0.15335724578221027\n",
      "Z-Modularity: 0.24776015702484902\n",
      "Link Modularity: 0.06855519285372255\n",
      "Significance: 2641632.6261838763\n",
      "\n"
     ]
    }
   ],
   "source": [
    "start_time = time.time()\n",
    "louvainComs = algorithms.louvain(G)\n",
    "t = time.time() - start_time\n",
    "print(\"Execution time: %.6s seconds\" % (t))\n",
    "\n",
    "coms = list(louvainComs.to_node_community_map().values())[-1][0]+1\n",
    "print(\"Number of communities:\", coms)\n",
    "ACS = evaluation.size(G, louvainComs)\n",
    "print(\"Average Community Size:\", ACS[2])\n",
    "AID = evaluation.average_internal_degree(G, louvainComs)\n",
    "print(\"Average Internal Degree:\", AID[2])\n",
    "\n",
    "NG_Mod = evaluation.newman_girvan_modularity(G, louvainComs)\n",
    "print(\"Newman-Girvan Modularity:\", NG_Mod[2])\n",
    "ER_Mod = evaluation.erdos_renyi_modularity(G, louvainComs)\n",
    "print(\"Erdos-Renyi Modularity:\", ER_Mod[2])\n",
    "Z_Mod = evaluation.z_modularity(G, louvainComs)\n",
    "print(\"Z-Modularity:\", Z_Mod[2])\n",
    "Link_Mod = evaluation.link_modularity(G, louvainComs)\n",
    "print(\"Link Modularity:\", Link_Mod[2])\n",
    "significance = evaluation.significance(G, louvainComs)\n",
    "print(\"Significance:\", significance[2])\n",
    "print()"
   ]
  },
  {
   "cell_type": "code",
   "execution_count": null,
   "id": "845062f1",
   "metadata": {},
   "outputs": [],
   "source": []
  }
 ],
 "metadata": {
  "kernelspec": {
   "display_name": "Python 3 (ipykernel)",
   "language": "python",
   "name": "python3"
  },
  "language_info": {
   "codemirror_mode": {
    "name": "ipython",
    "version": 3
   },
   "file_extension": ".py",
   "mimetype": "text/x-python",
   "name": "python",
   "nbconvert_exporter": "python",
   "pygments_lexer": "ipython3",
   "version": "3.10.9"
  }
 },
 "nbformat": 4,
 "nbformat_minor": 5
}
